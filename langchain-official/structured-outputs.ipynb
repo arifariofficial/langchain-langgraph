{
 "cells": [
  {
   "cell_type": "code",
   "execution_count": 6,
   "id": "d3b66b62",
   "metadata": {},
   "outputs": [
    {
     "data": {
      "text/plain": [
       "True"
      ]
     },
     "execution_count": 6,
     "metadata": {},
     "output_type": "execute_result"
    }
   ],
   "source": [
    "from dotenv import load_dotenv\n",
    "load_dotenv()\n"
   ]
  },
  {
   "cell_type": "code",
   "execution_count": 7,
   "id": "05a6a094",
   "metadata": {},
   "outputs": [],
   "source": [
    "from pydantic import BaseModel, Field\n",
    "\n",
    "class ResponseFormatter(BaseModel):\n",
    "    \"\"\"Always use this tool to structure your response to the user.\"\"\"\n",
    "    answer: str = Field(description=\"The answer to the user's qeustion\")\n",
    "    followup_question: str = Field(description=\"A followup question the user could ask\")"
   ]
  },
  {
   "cell_type": "code",
   "execution_count": 8,
   "id": "7b8fa65d",
   "metadata": {},
   "outputs": [],
   "source": [
    "from langchain_openai import ChatOpenAI\n",
    "\n",
    "model = ChatOpenAI(model=\"gpt-4o\", temperature=0)\n",
    "\n",
    "# Bind responseformatter schema as a tool to the model\n",
    "mode_with_tools = model.bind_tools([ResponseFormatter])\n",
    "\n",
    "ai_msg = mode_with_tools.invoke(\"What is the power house of the cell\")"
   ]
  },
  {
   "cell_type": "code",
   "execution_count": 9,
   "id": "73b6ca0f",
   "metadata": {},
   "outputs": [
    {
     "data": {
      "text/plain": [
       "{'answer': \"The powerhouse of the cell is the mitochondrion. Mitochondria are organelles that generate most of the cell's supply of adenosine triphosphate (ATP), which is used as a source of chemical energy.\",\n",
       " 'followup_question': 'What is the function of ATP in the cell?'}"
      ]
     },
     "execution_count": 9,
     "metadata": {},
     "output_type": "execute_result"
    }
   ],
   "source": [
    "# Get the tool call arguments\n",
    "ai_msg.tool_calls[0][\"args\"]"
   ]
  },
  {
   "cell_type": "code",
   "execution_count": 13,
   "id": "58f60996",
   "metadata": {},
   "outputs": [
    {
     "name": "stdout",
     "output_type": "stream",
     "text": [
      "answer=\"The powerhouse of the cell is the mitochondrion. Mitochondria are organelles that generate most of the cell's supply of adenosine triphosphate (ATP), which is used as a source of chemical energy.\" followup_question='What is the function of ATP in the cell?'\n"
     ]
    }
   ],
   "source": [
    "# Parse the dictionary into a pydentic object\n",
    "pydantic_object = ResponseFormatter.model_validate(ai_msg.tool_calls[0][\"args\"])\n",
    "\n",
    "print(pydantic_object)"
   ]
  }
 ],
 "metadata": {
  "kernelspec": {
   "display_name": ".venv",
   "language": "python",
   "name": "python3"
  },
  "language_info": {
   "codemirror_mode": {
    "name": "ipython",
    "version": 3
   },
   "file_extension": ".py",
   "mimetype": "text/x-python",
   "name": "python",
   "nbconvert_exporter": "python",
   "pygments_lexer": "ipython3",
   "version": "3.12.9"
  }
 },
 "nbformat": 4,
 "nbformat_minor": 5
}
